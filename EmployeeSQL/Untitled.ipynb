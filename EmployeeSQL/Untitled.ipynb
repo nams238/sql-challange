{
 "cells": [
  {
   "cell_type": "code",
   "execution_count": null,
   "id": "be991757",
   "metadata": {},
   "outputs": [],
   "source": [
    "# Importing all required dependancies \n",
    "# SQL Alchemy\n",
    "from sqlalchemy import create_engine\n",
    "\n",
    "# Pandas\n",
    "import pandas as pd\n",
    "\n",
    "# Matplotlib\n",
    "import matplotlib.pyplot as plt\n",
    "\n",
    "# NumPy\n",
    "import numpy as np\n",
    "\n",
    "from config import user, password, db_name"
   ]
  },
  {
   "cell_type": "code",
   "execution_count": null,
   "id": "35af166a",
   "metadata": {},
   "outputs": [],
   "source": []
  }
 ],
 "metadata": {
  "kernelspec": {
   "display_name": "Python 3 (ipykernel)",
   "language": "python",
   "name": "python3"
  },
  "language_info": {
   "codemirror_mode": {
    "name": "ipython",
    "version": 3
   },
   "file_extension": ".py",
   "mimetype": "text/x-python",
   "name": "python",
   "nbconvert_exporter": "python",
   "pygments_lexer": "ipython3",
   "version": "3.9.12"
  }
 },
 "nbformat": 4,
 "nbformat_minor": 5
}
